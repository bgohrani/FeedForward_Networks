{
  "nbformat": 4,
  "nbformat_minor": 0,
  "metadata": {
    "colab": {
      "name": "Vectorized_Neural_Networks.ipynb",
      "provenance": [],
      "collapsed_sections": [],
      "authorship_tag": "ABX9TyMs/THMjXL4t9Yya8g5f9sy",
      "include_colab_link": true
    },
    "kernelspec": {
      "name": "python3",
      "display_name": "Python 3"
    },
    "widgets": {
      "application/vnd.jupyter.widget-state+json": {
        "8a9a7003bf04417cb1c816f81db39f02": {
          "model_module": "@jupyter-widgets/controls",
          "model_name": "HBoxModel",
          "state": {
            "_view_name": "HBoxView",
            "_dom_classes": [],
            "_model_name": "HBoxModel",
            "_view_module": "@jupyter-widgets/controls",
            "_model_module_version": "1.5.0",
            "_view_count": null,
            "_view_module_version": "1.5.0",
            "box_style": "",
            "layout": "IPY_MODEL_fa7be2f1d4504a00befff0e6f93fb5e5",
            "_model_module": "@jupyter-widgets/controls",
            "children": [
              "IPY_MODEL_7c0fc6c71f434c9ea47cffc899db706f",
              "IPY_MODEL_65bc059774db4fd488d10c74ea111ebf"
            ]
          }
        },
        "fa7be2f1d4504a00befff0e6f93fb5e5": {
          "model_module": "@jupyter-widgets/base",
          "model_name": "LayoutModel",
          "state": {
            "_view_name": "LayoutView",
            "grid_template_rows": null,
            "right": null,
            "justify_content": null,
            "_view_module": "@jupyter-widgets/base",
            "overflow": null,
            "_model_module_version": "1.2.0",
            "_view_count": null,
            "flex_flow": null,
            "width": null,
            "min_width": null,
            "border": null,
            "align_items": null,
            "bottom": null,
            "_model_module": "@jupyter-widgets/base",
            "top": null,
            "grid_column": null,
            "overflow_y": null,
            "overflow_x": null,
            "grid_auto_flow": null,
            "grid_area": null,
            "grid_template_columns": null,
            "flex": null,
            "_model_name": "LayoutModel",
            "justify_items": null,
            "grid_row": null,
            "max_height": null,
            "align_content": null,
            "visibility": null,
            "align_self": null,
            "height": null,
            "min_height": null,
            "padding": null,
            "grid_auto_rows": null,
            "grid_gap": null,
            "max_width": null,
            "order": null,
            "_view_module_version": "1.2.0",
            "grid_template_areas": null,
            "object_position": null,
            "object_fit": null,
            "grid_auto_columns": null,
            "margin": null,
            "display": null,
            "left": null
          }
        },
        "7c0fc6c71f434c9ea47cffc899db706f": {
          "model_module": "@jupyter-widgets/controls",
          "model_name": "FloatProgressModel",
          "state": {
            "_view_name": "ProgressView",
            "style": "IPY_MODEL_befe858c382c4cdf9727dc821364d0ee",
            "_dom_classes": [],
            "description": "100%",
            "_model_name": "FloatProgressModel",
            "bar_style": "success",
            "max": 1000,
            "_view_module": "@jupyter-widgets/controls",
            "_model_module_version": "1.5.0",
            "value": 1000,
            "_view_count": null,
            "_view_module_version": "1.5.0",
            "orientation": "horizontal",
            "min": 0,
            "description_tooltip": null,
            "_model_module": "@jupyter-widgets/controls",
            "layout": "IPY_MODEL_0833e43fa66c4c05bc0b2ecaa0033cc6"
          }
        },
        "65bc059774db4fd488d10c74ea111ebf": {
          "model_module": "@jupyter-widgets/controls",
          "model_name": "HTMLModel",
          "state": {
            "_view_name": "HTMLView",
            "style": "IPY_MODEL_15be58f5a28948729401d629b861fb08",
            "_dom_classes": [],
            "description": "",
            "_model_name": "HTMLModel",
            "placeholder": "​",
            "_view_module": "@jupyter-widgets/controls",
            "_model_module_version": "1.5.0",
            "value": " 1000/1000 [17:58&lt;00:00,  1.08s/it]",
            "_view_count": null,
            "_view_module_version": "1.5.0",
            "description_tooltip": null,
            "_model_module": "@jupyter-widgets/controls",
            "layout": "IPY_MODEL_048ac70836e34e41852dd38a4302681d"
          }
        },
        "befe858c382c4cdf9727dc821364d0ee": {
          "model_module": "@jupyter-widgets/controls",
          "model_name": "ProgressStyleModel",
          "state": {
            "_view_name": "StyleView",
            "_model_name": "ProgressStyleModel",
            "description_width": "initial",
            "_view_module": "@jupyter-widgets/base",
            "_model_module_version": "1.5.0",
            "_view_count": null,
            "_view_module_version": "1.2.0",
            "bar_color": null,
            "_model_module": "@jupyter-widgets/controls"
          }
        },
        "0833e43fa66c4c05bc0b2ecaa0033cc6": {
          "model_module": "@jupyter-widgets/base",
          "model_name": "LayoutModel",
          "state": {
            "_view_name": "LayoutView",
            "grid_template_rows": null,
            "right": null,
            "justify_content": null,
            "_view_module": "@jupyter-widgets/base",
            "overflow": null,
            "_model_module_version": "1.2.0",
            "_view_count": null,
            "flex_flow": null,
            "width": null,
            "min_width": null,
            "border": null,
            "align_items": null,
            "bottom": null,
            "_model_module": "@jupyter-widgets/base",
            "top": null,
            "grid_column": null,
            "overflow_y": null,
            "overflow_x": null,
            "grid_auto_flow": null,
            "grid_area": null,
            "grid_template_columns": null,
            "flex": null,
            "_model_name": "LayoutModel",
            "justify_items": null,
            "grid_row": null,
            "max_height": null,
            "align_content": null,
            "visibility": null,
            "align_self": null,
            "height": null,
            "min_height": null,
            "padding": null,
            "grid_auto_rows": null,
            "grid_gap": null,
            "max_width": null,
            "order": null,
            "_view_module_version": "1.2.0",
            "grid_template_areas": null,
            "object_position": null,
            "object_fit": null,
            "grid_auto_columns": null,
            "margin": null,
            "display": null,
            "left": null
          }
        },
        "15be58f5a28948729401d629b861fb08": {
          "model_module": "@jupyter-widgets/controls",
          "model_name": "DescriptionStyleModel",
          "state": {
            "_view_name": "StyleView",
            "_model_name": "DescriptionStyleModel",
            "description_width": "",
            "_view_module": "@jupyter-widgets/base",
            "_model_module_version": "1.5.0",
            "_view_count": null,
            "_view_module_version": "1.2.0",
            "_model_module": "@jupyter-widgets/controls"
          }
        },
        "048ac70836e34e41852dd38a4302681d": {
          "model_module": "@jupyter-widgets/base",
          "model_name": "LayoutModel",
          "state": {
            "_view_name": "LayoutView",
            "grid_template_rows": null,
            "right": null,
            "justify_content": null,
            "_view_module": "@jupyter-widgets/base",
            "overflow": null,
            "_model_module_version": "1.2.0",
            "_view_count": null,
            "flex_flow": null,
            "width": null,
            "min_width": null,
            "border": null,
            "align_items": null,
            "bottom": null,
            "_model_module": "@jupyter-widgets/base",
            "top": null,
            "grid_column": null,
            "overflow_y": null,
            "overflow_x": null,
            "grid_auto_flow": null,
            "grid_area": null,
            "grid_template_columns": null,
            "flex": null,
            "_model_name": "LayoutModel",
            "justify_items": null,
            "grid_row": null,
            "max_height": null,
            "align_content": null,
            "visibility": null,
            "align_self": null,
            "height": null,
            "min_height": null,
            "padding": null,
            "grid_auto_rows": null,
            "grid_gap": null,
            "max_width": null,
            "order": null,
            "_view_module_version": "1.2.0",
            "grid_template_areas": null,
            "object_position": null,
            "object_fit": null,
            "grid_auto_columns": null,
            "margin": null,
            "display": null,
            "left": null
          }
        },
        "f11574e36ca948c0b4dcdc7f591a654d": {
          "model_module": "@jupyter-widgets/controls",
          "model_name": "HBoxModel",
          "state": {
            "_view_name": "HBoxView",
            "_dom_classes": [],
            "_model_name": "HBoxModel",
            "_view_module": "@jupyter-widgets/controls",
            "_model_module_version": "1.5.0",
            "_view_count": null,
            "_view_module_version": "1.5.0",
            "box_style": "",
            "layout": "IPY_MODEL_f382fb1a3a0047a5a4d2da928c90c6f6",
            "_model_module": "@jupyter-widgets/controls",
            "children": [
              "IPY_MODEL_bb8d013522ed44f09a7a9214331b5c27",
              "IPY_MODEL_40ccdcdb51e94ea5a4f49430e68040cf"
            ]
          }
        },
        "f382fb1a3a0047a5a4d2da928c90c6f6": {
          "model_module": "@jupyter-widgets/base",
          "model_name": "LayoutModel",
          "state": {
            "_view_name": "LayoutView",
            "grid_template_rows": null,
            "right": null,
            "justify_content": null,
            "_view_module": "@jupyter-widgets/base",
            "overflow": null,
            "_model_module_version": "1.2.0",
            "_view_count": null,
            "flex_flow": null,
            "width": null,
            "min_width": null,
            "border": null,
            "align_items": null,
            "bottom": null,
            "_model_module": "@jupyter-widgets/base",
            "top": null,
            "grid_column": null,
            "overflow_y": null,
            "overflow_x": null,
            "grid_auto_flow": null,
            "grid_area": null,
            "grid_template_columns": null,
            "flex": null,
            "_model_name": "LayoutModel",
            "justify_items": null,
            "grid_row": null,
            "max_height": null,
            "align_content": null,
            "visibility": null,
            "align_self": null,
            "height": null,
            "min_height": null,
            "padding": null,
            "grid_auto_rows": null,
            "grid_gap": null,
            "max_width": null,
            "order": null,
            "_view_module_version": "1.2.0",
            "grid_template_areas": null,
            "object_position": null,
            "object_fit": null,
            "grid_auto_columns": null,
            "margin": null,
            "display": null,
            "left": null
          }
        },
        "bb8d013522ed44f09a7a9214331b5c27": {
          "model_module": "@jupyter-widgets/controls",
          "model_name": "FloatProgressModel",
          "state": {
            "_view_name": "ProgressView",
            "style": "IPY_MODEL_643ba0e345384fbb9dda61605628355c",
            "_dom_classes": [],
            "description": "100%",
            "_model_name": "FloatProgressModel",
            "bar_style": "success",
            "max": 1000,
            "_view_module": "@jupyter-widgets/controls",
            "_model_module_version": "1.5.0",
            "value": 1000,
            "_view_count": null,
            "_view_module_version": "1.5.0",
            "orientation": "horizontal",
            "min": 0,
            "description_tooltip": null,
            "_model_module": "@jupyter-widgets/controls",
            "layout": "IPY_MODEL_a040c5095acf4bb580d77a1fdf4da831"
          }
        },
        "40ccdcdb51e94ea5a4f49430e68040cf": {
          "model_module": "@jupyter-widgets/controls",
          "model_name": "HTMLModel",
          "state": {
            "_view_name": "HTMLView",
            "style": "IPY_MODEL_81fcd4585e3047a7a7a885caf72bcd64",
            "_dom_classes": [],
            "description": "",
            "_model_name": "HTMLModel",
            "placeholder": "​",
            "_view_module": "@jupyter-widgets/controls",
            "_model_module_version": "1.5.0",
            "value": " 1000/1000 [04:49&lt;00:00,  3.46it/s]",
            "_view_count": null,
            "_view_module_version": "1.5.0",
            "description_tooltip": null,
            "_model_module": "@jupyter-widgets/controls",
            "layout": "IPY_MODEL_18e75c5dcc514a59a4f4f75ccb0d445c"
          }
        },
        "643ba0e345384fbb9dda61605628355c": {
          "model_module": "@jupyter-widgets/controls",
          "model_name": "ProgressStyleModel",
          "state": {
            "_view_name": "StyleView",
            "_model_name": "ProgressStyleModel",
            "description_width": "initial",
            "_view_module": "@jupyter-widgets/base",
            "_model_module_version": "1.5.0",
            "_view_count": null,
            "_view_module_version": "1.2.0",
            "bar_color": null,
            "_model_module": "@jupyter-widgets/controls"
          }
        },
        "a040c5095acf4bb580d77a1fdf4da831": {
          "model_module": "@jupyter-widgets/base",
          "model_name": "LayoutModel",
          "state": {
            "_view_name": "LayoutView",
            "grid_template_rows": null,
            "right": null,
            "justify_content": null,
            "_view_module": "@jupyter-widgets/base",
            "overflow": null,
            "_model_module_version": "1.2.0",
            "_view_count": null,
            "flex_flow": null,
            "width": null,
            "min_width": null,
            "border": null,
            "align_items": null,
            "bottom": null,
            "_model_module": "@jupyter-widgets/base",
            "top": null,
            "grid_column": null,
            "overflow_y": null,
            "overflow_x": null,
            "grid_auto_flow": null,
            "grid_area": null,
            "grid_template_columns": null,
            "flex": null,
            "_model_name": "LayoutModel",
            "justify_items": null,
            "grid_row": null,
            "max_height": null,
            "align_content": null,
            "visibility": null,
            "align_self": null,
            "height": null,
            "min_height": null,
            "padding": null,
            "grid_auto_rows": null,
            "grid_gap": null,
            "max_width": null,
            "order": null,
            "_view_module_version": "1.2.0",
            "grid_template_areas": null,
            "object_position": null,
            "object_fit": null,
            "grid_auto_columns": null,
            "margin": null,
            "display": null,
            "left": null
          }
        },
        "81fcd4585e3047a7a7a885caf72bcd64": {
          "model_module": "@jupyter-widgets/controls",
          "model_name": "DescriptionStyleModel",
          "state": {
            "_view_name": "StyleView",
            "_model_name": "DescriptionStyleModel",
            "description_width": "",
            "_view_module": "@jupyter-widgets/base",
            "_model_module_version": "1.5.0",
            "_view_count": null,
            "_view_module_version": "1.2.0",
            "_model_module": "@jupyter-widgets/controls"
          }
        },
        "18e75c5dcc514a59a4f4f75ccb0d445c": {
          "model_module": "@jupyter-widgets/base",
          "model_name": "LayoutModel",
          "state": {
            "_view_name": "LayoutView",
            "grid_template_rows": null,
            "right": null,
            "justify_content": null,
            "_view_module": "@jupyter-widgets/base",
            "overflow": null,
            "_model_module_version": "1.2.0",
            "_view_count": null,
            "flex_flow": null,
            "width": null,
            "min_width": null,
            "border": null,
            "align_items": null,
            "bottom": null,
            "_model_module": "@jupyter-widgets/base",
            "top": null,
            "grid_column": null,
            "overflow_y": null,
            "overflow_x": null,
            "grid_auto_flow": null,
            "grid_area": null,
            "grid_template_columns": null,
            "flex": null,
            "_model_name": "LayoutModel",
            "justify_items": null,
            "grid_row": null,
            "max_height": null,
            "align_content": null,
            "visibility": null,
            "align_self": null,
            "height": null,
            "min_height": null,
            "padding": null,
            "grid_auto_rows": null,
            "grid_gap": null,
            "max_width": null,
            "order": null,
            "_view_module_version": "1.2.0",
            "grid_template_areas": null,
            "object_position": null,
            "object_fit": null,
            "grid_auto_columns": null,
            "margin": null,
            "display": null,
            "left": null
          }
        },
        "d513ada3299b4dc59fc7b38de54215a5": {
          "model_module": "@jupyter-widgets/controls",
          "model_name": "HBoxModel",
          "state": {
            "_view_name": "HBoxView",
            "_dom_classes": [],
            "_model_name": "HBoxModel",
            "_view_module": "@jupyter-widgets/controls",
            "_model_module_version": "1.5.0",
            "_view_count": null,
            "_view_module_version": "1.5.0",
            "box_style": "",
            "layout": "IPY_MODEL_c307113f568c4b439ea49c779c0f38b6",
            "_model_module": "@jupyter-widgets/controls",
            "children": [
              "IPY_MODEL_3dceaa3daa3649b18b76cc62c1038720",
              "IPY_MODEL_5fa57823e6934c9286a47b2a5dd84aa6"
            ]
          }
        },
        "c307113f568c4b439ea49c779c0f38b6": {
          "model_module": "@jupyter-widgets/base",
          "model_name": "LayoutModel",
          "state": {
            "_view_name": "LayoutView",
            "grid_template_rows": null,
            "right": null,
            "justify_content": null,
            "_view_module": "@jupyter-widgets/base",
            "overflow": null,
            "_model_module_version": "1.2.0",
            "_view_count": null,
            "flex_flow": null,
            "width": null,
            "min_width": null,
            "border": null,
            "align_items": null,
            "bottom": null,
            "_model_module": "@jupyter-widgets/base",
            "top": null,
            "grid_column": null,
            "overflow_y": null,
            "overflow_x": null,
            "grid_auto_flow": null,
            "grid_area": null,
            "grid_template_columns": null,
            "flex": null,
            "_model_name": "LayoutModel",
            "justify_items": null,
            "grid_row": null,
            "max_height": null,
            "align_content": null,
            "visibility": null,
            "align_self": null,
            "height": null,
            "min_height": null,
            "padding": null,
            "grid_auto_rows": null,
            "grid_gap": null,
            "max_width": null,
            "order": null,
            "_view_module_version": "1.2.0",
            "grid_template_areas": null,
            "object_position": null,
            "object_fit": null,
            "grid_auto_columns": null,
            "margin": null,
            "display": null,
            "left": null
          }
        },
        "3dceaa3daa3649b18b76cc62c1038720": {
          "model_module": "@jupyter-widgets/controls",
          "model_name": "FloatProgressModel",
          "state": {
            "_view_name": "ProgressView",
            "style": "IPY_MODEL_8fcc66af7d3649a68ca8fcc8e63158e0",
            "_dom_classes": [],
            "description": "100%",
            "_model_name": "FloatProgressModel",
            "bar_style": "success",
            "max": 2000,
            "_view_module": "@jupyter-widgets/controls",
            "_model_module_version": "1.5.0",
            "value": 2000,
            "_view_count": null,
            "_view_module_version": "1.5.0",
            "orientation": "horizontal",
            "min": 0,
            "description_tooltip": null,
            "_model_module": "@jupyter-widgets/controls",
            "layout": "IPY_MODEL_9c7523b75f234391b5f99a26f8470711"
          }
        },
        "5fa57823e6934c9286a47b2a5dd84aa6": {
          "model_module": "@jupyter-widgets/controls",
          "model_name": "HTMLModel",
          "state": {
            "_view_name": "HTMLView",
            "style": "IPY_MODEL_ec877244b2a442c596ba498771eef2d4",
            "_dom_classes": [],
            "description": "",
            "_model_name": "HTMLModel",
            "placeholder": "​",
            "_view_module": "@jupyter-widgets/controls",
            "_model_module_version": "1.5.0",
            "value": " 2000/2000 [00:01&lt;00:00, 1276.99it/s]",
            "_view_count": null,
            "_view_module_version": "1.5.0",
            "description_tooltip": null,
            "_model_module": "@jupyter-widgets/controls",
            "layout": "IPY_MODEL_5deac19e0c81422ca1e2330b7fcf0afd"
          }
        },
        "8fcc66af7d3649a68ca8fcc8e63158e0": {
          "model_module": "@jupyter-widgets/controls",
          "model_name": "ProgressStyleModel",
          "state": {
            "_view_name": "StyleView",
            "_model_name": "ProgressStyleModel",
            "description_width": "initial",
            "_view_module": "@jupyter-widgets/base",
            "_model_module_version": "1.5.0",
            "_view_count": null,
            "_view_module_version": "1.2.0",
            "bar_color": null,
            "_model_module": "@jupyter-widgets/controls"
          }
        },
        "9c7523b75f234391b5f99a26f8470711": {
          "model_module": "@jupyter-widgets/base",
          "model_name": "LayoutModel",
          "state": {
            "_view_name": "LayoutView",
            "grid_template_rows": null,
            "right": null,
            "justify_content": null,
            "_view_module": "@jupyter-widgets/base",
            "overflow": null,
            "_model_module_version": "1.2.0",
            "_view_count": null,
            "flex_flow": null,
            "width": null,
            "min_width": null,
            "border": null,
            "align_items": null,
            "bottom": null,
            "_model_module": "@jupyter-widgets/base",
            "top": null,
            "grid_column": null,
            "overflow_y": null,
            "overflow_x": null,
            "grid_auto_flow": null,
            "grid_area": null,
            "grid_template_columns": null,
            "flex": null,
            "_model_name": "LayoutModel",
            "justify_items": null,
            "grid_row": null,
            "max_height": null,
            "align_content": null,
            "visibility": null,
            "align_self": null,
            "height": null,
            "min_height": null,
            "padding": null,
            "grid_auto_rows": null,
            "grid_gap": null,
            "max_width": null,
            "order": null,
            "_view_module_version": "1.2.0",
            "grid_template_areas": null,
            "object_position": null,
            "object_fit": null,
            "grid_auto_columns": null,
            "margin": null,
            "display": null,
            "left": null
          }
        },
        "ec877244b2a442c596ba498771eef2d4": {
          "model_module": "@jupyter-widgets/controls",
          "model_name": "DescriptionStyleModel",
          "state": {
            "_view_name": "StyleView",
            "_model_name": "DescriptionStyleModel",
            "description_width": "",
            "_view_module": "@jupyter-widgets/base",
            "_model_module_version": "1.5.0",
            "_view_count": null,
            "_view_module_version": "1.2.0",
            "_model_module": "@jupyter-widgets/controls"
          }
        },
        "5deac19e0c81422ca1e2330b7fcf0afd": {
          "model_module": "@jupyter-widgets/base",
          "model_name": "LayoutModel",
          "state": {
            "_view_name": "LayoutView",
            "grid_template_rows": null,
            "right": null,
            "justify_content": null,
            "_view_module": "@jupyter-widgets/base",
            "overflow": null,
            "_model_module_version": "1.2.0",
            "_view_count": null,
            "flex_flow": null,
            "width": null,
            "min_width": null,
            "border": null,
            "align_items": null,
            "bottom": null,
            "_model_module": "@jupyter-widgets/base",
            "top": null,
            "grid_column": null,
            "overflow_y": null,
            "overflow_x": null,
            "grid_auto_flow": null,
            "grid_area": null,
            "grid_template_columns": null,
            "flex": null,
            "_model_name": "LayoutModel",
            "justify_items": null,
            "grid_row": null,
            "max_height": null,
            "align_content": null,
            "visibility": null,
            "align_self": null,
            "height": null,
            "min_height": null,
            "padding": null,
            "grid_auto_rows": null,
            "grid_gap": null,
            "max_width": null,
            "order": null,
            "_view_module_version": "1.2.0",
            "grid_template_areas": null,
            "object_position": null,
            "object_fit": null,
            "grid_auto_columns": null,
            "margin": null,
            "display": null,
            "left": null
          }
        }
      }
    }
  },
  "cells": [
    {
      "cell_type": "markdown",
      "metadata": {
        "id": "view-in-github",
        "colab_type": "text"
      },
      "source": [
        "<a href=\"https://colab.research.google.com/github/bgohrani/FeedForward_Networks/blob/main/Vectorized_Neural_Networks.ipynb\" target=\"_parent\"><img src=\"https://colab.research.google.com/assets/colab-badge.svg\" alt=\"Open In Colab\"/></a>"
      ]
    },
    {
      "cell_type": "markdown",
      "metadata": {
        "id": "eFefLjchUjHZ"
      },
      "source": [
        "#Vectorized Learning Algorithm\n",
        "Here we'll see the vector form of the learning algorithm which can be applied to a generalized feed forward neural network to optimize the process"
      ]
    },
    {
      "cell_type": "code",
      "metadata": {
        "id": "mmW1v5ChUg32"
      },
      "source": [
        "import numpy as np\n",
        "import pandas as pd\n",
        "import seaborn as sns\n",
        "import matplotlib.pyplot as plt\n",
        "from tqdm import tqdm_notebook\n",
        "from sklearn.preprocessing import OneHotEncoder\n",
        "from sklearn.model_selection import train_test_split\n",
        "from sklearn.metrics import accuracy_score , mean_squared_error\n",
        "import matplotlib.colors\n",
        "from sklearn.datasets import make_blobs\n",
        "from sklearn.compose import ColumnTransformer\n",
        "sns.set()\n",
        "\n",
        "#Importing essential libraries"
      ],
      "execution_count": null,
      "outputs": []
    },
    {
      "cell_type": "code",
      "metadata": {
        "colab": {
          "base_uri": "https://localhost:8080/",
          "height": 301
        },
        "id": "11AJKHflViI2",
        "outputId": "50f1ecb0-debf-4dd0-8048-fb8a9e8ded49"
      },
      "source": [
        "cmap1 = matplotlib.colors.LinearSegmentedColormap.from_list(\"\", [\"red\",\"yellow\",\"green\"])\n",
        "data, labels = make_blobs(n_samples=1000,n_features = 2, centers = 4,random_state=0)\n",
        "plt.scatter(data[:,0],data[:,1],c=labels,cmap=cmap1)\n",
        "plt.xlabel('X1')\n",
        "plt.ylabel('X2')\n",
        "plt.title('Data')\n",
        "plt.show()\n",
        "\n",
        "\n",
        "#Creating our own colour map cmap1\n",
        "#Importing blob datasets and plotting"
      ],
      "execution_count": null,
      "outputs": [
        {
          "output_type": "display_data",
          "data": {
            "image/png": "[encoded data removed]",
            "text/plain": [
              "<Figure size 432x288 with 1 Axes>"
            ]
          },
          "metadata": {
            "tags": []
          }
        }
      ]
    },
    {
      "cell_type": "code",
      "metadata": {
        "colab": {
          "base_uri": "https://localhost:8080/",
          "height": 268
        },
        "id": "6SgK5R8_WDwU",
        "outputId": "456579a2-ebf2-4d22-e4c2-1abc7876abee"
      },
      "source": [
        "labels_orig = labels\n",
        "labels = np.mod(labels_orig,2)\n",
        "plt.scatter(data[:,0],data[:,1],c=labels,cmap=cmap1)\n",
        "plt.show()\n",
        "\n",
        "\n",
        "#Changing the number of classes from 4 to 2 and plotting"
      ],
      "execution_count": null,
      "outputs": [
        {
          "output_type": "display_data",
          "data": {
            "image/png": "[encoded data removed]",
            "text/plain": [
              "<Figure size 432x288 with 1 Axes>"
            ]
          },
          "metadata": {
            "tags": []
          }
        }
      ]
    },
    {
      "cell_type": "code",
      "metadata": {
        "id": "4pUiGpF9Wput"
      },
      "source": [
        "class FFNetwork_BP1:\n",
        "\n",
        "  def __init__(self,n_inputs,n_outputs,n_hlayers=[2]):\n",
        "    \n",
        "    self.input = n_inputs\n",
        "    self.output = n_outputs\n",
        "    self.nh = len(n_hlayers)\n",
        "    self.neurons = [n_inputs] + n_hlayers + [n_outputs]\n",
        "    self.W = {}\n",
        "    self.B = {}\n",
        "\n",
        "    for i in range(self.nh +1):\n",
        "      self.W[i+1] = np.random.randn(self.neurons[i+1],self.neurons[i])\n",
        "      self.B[i+1] = np.zeros([self.neurons[i+1],1])\n",
        "  \n",
        "  def sigmoid(self,x):\n",
        "    return 1.0/(1.0 + np.exp(-x))\n",
        "  \n",
        "  def forward_pass(self,x):\n",
        "    self.A = {}\n",
        "    self.H = {}\n",
        "    self.H[0] = x.reshape(-1,1)\n",
        "\n",
        "    for i in range(self.nh):\n",
        "      self.A[i+1] = np.matmul(self.W[i+1],self.H[i]) + self.B[i+1]\n",
        "      self.H[i+1] = self.sigmoid(self.A[i+1])\n",
        "    \n",
        "    self.A[self.nh+1] = np.matmul(self.W[self.nh+1],self.H[self.nh]) + self.B[self.nh+1]\n",
        "    sum = np.sum(np.exp(self.A[self.nh+1]))\n",
        "    self.H[self.nh+1] = np.exp(self.A[self.nh+1])/sum \n",
        "    return self.H[self.nh+1]\n",
        "  \n",
        "  def grad_sigmoid(self,x):\n",
        "    return x*(1-x)\n",
        "  \n",
        "  def cross_entropy(self,Y,Y_pred):\n",
        "    y_temp = np.multiply(Y,Y_pred)\n",
        "    y_temp = y_temp[y_temp != 0]\n",
        "    y_temp1 = -np.log(y_temp)\n",
        "    return np.mean(y_temp1)\n",
        "\n",
        "  \n",
        "  def predict(self,X):\n",
        "    Y_pred = []\n",
        "    for x in X:\n",
        "      Y_pred.append(self.forward_pass(x))\n",
        "    return np.asarray(Y_pred).squeeze()\n",
        "\n",
        "  def grad(self,x,y):\n",
        "    self.forward_pass(x)\n",
        "    self.dA = {}\n",
        "    self.dH = {}\n",
        "    self.dW = {}\n",
        "    self.dB = {}\n",
        "    L = self.nh+1\n",
        "    self.dA[L] = (self.H[L]-y.reshape(-1,1))\n",
        "    for i in range(L,0,-1):\n",
        "      self.dW[i] = np.matmul(self.dA[i],np.transpose(self.H[i-1]))\n",
        "      self.dB[i] = self.dA[i]\n",
        "      if i>1:\n",
        "        self.dH[i-1] = np.matmul(np.transpose(self.W[i]),self.dA[i])\n",
        "        self.dA[i-1] = np.multiply(self.dH[i-1],self.grad_sigmoid(self.H[i-1]))\n",
        "\n",
        "\n",
        "\n",
        "  def train(self,X,Y,epochs=1,lr=1,initialise=1,show_loss=0):\n",
        "    loss = []\n",
        "    if initialise==1:\n",
        "      self.W = {}\n",
        "      self.B = {}\n",
        "\n",
        "      for i in range(self.nh +1):\n",
        "        self.W[i+1] = np.random.randn(self.neurons[i+1],self.neurons[i])\n",
        "        self.B[i+1] = np.zeros([self.neurons[i+1],1])\n",
        "\n",
        "    for i in tqdm_notebook(range(epochs)):\n",
        "      #print(i)\n",
        "      dW={}\n",
        "      dB={}\n",
        "      for i in range(self.nh+1):\n",
        "        dW[i+1] = np.zeros([self.neurons[i+1],self.neurons[i]])\n",
        "        dB[i+1] = np.zeros([self.neurons[i+1],1])\n",
        "      for x,y in zip(X,Y):\n",
        "        self.grad(x,y)\n",
        "        for i in range(self.nh+1):\n",
        "          dW[i+1] += self.dW[i+1]\n",
        "          dB[i+1] += self.dB[i+1]\n",
        "      \n",
        "      m = X.shape[1]\n",
        "      for i in range(self.nh+1):\n",
        "        self.W[i+1] -= lr * dW[i+1] /m\n",
        "        self.B[i+1] -= lr * dB[i+1] /m\n",
        "      \n",
        "      Y_pred = self.predict(X)\n",
        "      loss.append(self.cross_entropy(Y,Y_pred))\n",
        "\n",
        "    if show_loss ==1:\n",
        "      plt.plot(loss)\n",
        "      plt.xlabel('Epochs')\n",
        "      plt.ylabel('Cross Entropy Loss')\n",
        "      plt.title('Loss During Training')\n",
        "      plt.show()\n",
        "\n",
        "      \n",
        "#FOR GENERAL CLASS BINARY CLASSIFICATION   \n",
        "#We have an initial function which takes as inputs number of x values and a list with no of neurons in each layer\n",
        "#This is followed by an initialisation where W and B are dictionaries and each entry contains values for one layer\n",
        "#The forward pass function calculates the output for given x and w,b\n",
        "#Each initialisation or calculation contains a loop for each dictionary entry\n",
        "#The train function initialises first, then takes dictionaries for dW and dB all set to 0\n",
        "#Then for each x value grad is called and with a loop dW is increased with self.dW\n",
        "#Then with a loop the values of self.W are incremented for each entry \n",
        "#With these values the output and loss are calculated, and a list is made for each epoch value\n",
        "#Loss is plotted as usual\n",
        "\n",
        "# FOR MULTI CLASS CLASSIFICATION\n",
        "#Initial function takes one more input, number of classes or neurons in the output layer\n",
        "#New softmax function which returns exp value/sum of all exp values for probability distribution\n",
        "#In the forward pass function, the final layer is calculated outside the loop and the softmax function is called \n",
        "#Cross entropy loss function is introduced which takes element wise product of the actual and predicted data\n",
        "#Log function is then used, ensuring no zeros are present\n"
      ],
      "execution_count": null,
      "outputs": []
    },
    {
      "cell_type": "code",
      "metadata": {
        "colab": {
          "base_uri": "https://localhost:8080/"
        },
        "id": "DGBKz4G24jaw",
        "outputId": "770f9639-56ac-48bb-da12-d4c148e62de4"
      },
      "source": [
        "X_train,X_test,Y_train,Y_test = train_test_split(data,labels,stratify=labels,random_state=0)\n",
        "print(X_train.shape,Y_train.shape,X_test.shape,Y_test.shape)"
      ],
      "execution_count": null,
      "outputs": [
        {
          "output_type": "stream",
          "text": [
            "(750, 2) (750,) (250, 2) (250,)\n"
          ],
          "name": "stdout"
        }
      ]
    },
    {
      "cell_type": "code",
      "metadata": {
        "id": "dkRhaXB1m45d"
      },
      "source": [
        "Y_train1 = Y_train.reshape(-1,1)\n",
        "onehotencoder = OneHotEncoder() \n",
        "Y_train2 = onehotencoder.fit_transform(Y_train1).toarray()"
      ],
      "execution_count": null,
      "outputs": []
    },
    {
      "cell_type": "code",
      "metadata": {
        "colab": {
          "base_uri": "https://localhost:8080/",
          "height": 383,
          "referenced_widgets": [
            "8a9a7003bf04417cb1c816f81db39f02",
            "fa7be2f1d4504a00befff0e6f93fb5e5",
            "7c0fc6c71f434c9ea47cffc899db706f",
            "65bc059774db4fd488d10c74ea111ebf",
            "befe858c382c4cdf9727dc821364d0ee",
            "0833e43fa66c4c05bc0b2ecaa0033cc6",
            "15be58f5a28948729401d629b861fb08",
            "048ac70836e34e41852dd38a4302681d"
          ]
        },
        "id": "PlRF_mKJ43MW",
        "outputId": "cd67896f-3ec2-4238-b3c4-47191460a34a"
      },
      "source": [
        "f1 = FFNetwork_BP1(2,2,[4,3])\n",
        "f1.train(X_train,Y_train2,epochs=1000,lr=0.005,initialise=1,show_loss=1)\n",
        "## Training speed: 1.08s/iteration"
      ],
      "execution_count": null,
      "outputs": [
        {
          "output_type": "stream",
          "text": [
            "/usr/local/lib/python3.7/dist-packages/ipykernel_launcher.py:76: TqdmDeprecationWarning: This function will be removed in tqdm==5.0.0\n",
            "Please use `tqdm.notebook.tqdm` instead of `tqdm.tqdm_notebook`\n"
          ],
          "name": "stderr"
        },
        {
          "output_type": "display_data",
          "data": {
            "application/vnd.jupyter.widget-view+json": {
              "model_id": "8a9a7003bf04417cb1c816f81db39f02",
              "version_minor": 0,
              "version_major": 2
            },
            "text/plain": [
              "HBox(children=(FloatProgress(value=0.0, max=1000.0), HTML(value='')))"
            ]
          },
          "metadata": {
            "tags": []
          }
        },
        {
          "output_type": "stream",
          "text": [
            "\n"
          ],
          "name": "stdout"
        },
        {
          "output_type": "display_data",
          "data": {
            "image/png": "[encoded data removed]",
            "text/plain": [
              "<Figure size 432x288 with 1 Axes>"
            ]
          },
          "metadata": {
            "tags": []
          }
        }
      ]
    },
    {
      "cell_type": "code",
      "metadata": {
        "id": "U8xwOjFSrT-T"
      },
      "source": [
        "class FFNetwork_BP2:\n",
        "\n",
        "  def __init__(self,n_inputs,n_outputs,n_hlayers=[2]):\n",
        "    \n",
        "    self.input = n_inputs\n",
        "    self.output = n_outputs\n",
        "    self.nh = len(n_hlayers)\n",
        "    self.neurons = [n_inputs] + n_hlayers + [n_outputs]\n",
        "    self.W = {}\n",
        "    self.B = {}\n",
        "\n",
        "    for i in range(self.nh +1):\n",
        "      self.W[i+1] = np.random.randn(self.neurons[i+1],self.neurons[i])\n",
        "      self.B[i+1] = np.zeros([self.neurons[i+1],1])\n",
        "  \n",
        "  def sigmoid(self,x):\n",
        "    return 1.0/(1.0 + np.exp(-x))\n",
        "  \n",
        "  def forward_pass(self,x):\n",
        "    self.A = {}\n",
        "    self.H = {}\n",
        "    self.H[0] = x.reshape(-1,1)\n",
        "\n",
        "    for i in range(self.nh):\n",
        "      self.A[i+1] = np.matmul(self.W[i+1],self.H[i]) + self.B[i+1]\n",
        "      self.H[i+1] = self.sigmoid(self.A[i+1])\n",
        "    \n",
        "    self.A[self.nh+1] = np.matmul(self.W[self.nh+1],self.H[self.nh]) + self.B[self.nh+1]\n",
        "    sum = np.sum(np.exp(self.A[self.nh+1]))\n",
        "    self.H[self.nh+1] = np.exp(self.A[self.nh+1])/sum \n",
        "    return self.H[self.nh+1]\n",
        "  \n",
        "  def grad_sigmoid(self,x):\n",
        "    return x*(1-x)\n",
        "  \n",
        "  def cross_entropy(self,Y,Y_pred):\n",
        "    y_temp = np.multiply(Y,Y_pred)\n",
        "    y_temp = y_temp[y_temp != 0]\n",
        "    y_temp1 = -np.log(y_temp)\n",
        "    return np.mean(y_temp1)\n",
        "\n",
        "  \n",
        "  def predict(self,X):\n",
        "    Y_pred = []\n",
        "    for x in X:\n",
        "      Y_pred.append(self.forward_pass(x))\n",
        "    return np.asarray(Y_pred).squeeze()\n",
        "\n",
        "  def grad(self,x,y):\n",
        "    self.forward_pass(x)\n",
        "    self.dA = {}\n",
        "    self.dH = {}\n",
        "    self.dW = {}\n",
        "    self.dB = {}\n",
        "    L = self.nh+1\n",
        "    self.dA[L] = (self.H[L]-y.reshape(-1,1))\n",
        "    i = self.nh +1\n",
        "    if i == self.nh+1:\n",
        "      self.dW[i] = np.matmul(self.dA[i],np.transpose(self.H[i-1]))\n",
        "      self.dB[i] = self.dA[i]\n",
        "      self.dH[i-1] = np.matmul(np.transpose(self.W[i]),self.dA[i])\n",
        "      self.dA[i-1] = np.multiply(self.dH[i-1],self.grad_sigmoid(self.H[i-1]))      \n",
        "\n",
        "      i -=1\n",
        "    \n",
        "    while i>0:\n",
        "      self.dW[i+1] = np.matmul(self.dA[i+1],np.transpose(self.H[i]))\n",
        "      self.dB[i+1] = self.dA[i+1]\n",
        "      self.dH[i] = np.matmul(np.transpose(self.W[i+1]),self.dA[i+1])\n",
        "      self.dA[i] = np.multiply(self.dH[i],self.grad_sigmoid(self.H[i]))\n",
        "      #print(i)\n",
        "      i = i-1\n",
        "    \n",
        "    if i==0:\n",
        "      #print(i)\n",
        "      self.dW[i+1]= np.matmul(self.dA[i+1],np.transpose(self.H[i]))\n",
        "      self.dB[i+1] = self.dA[i+1]\n",
        "\n",
        "\n",
        "\n",
        "  def train(self,X,Y,epochs=1,lr=1,initialise=1,show_loss=0):\n",
        "    loss = []\n",
        "    if initialise==1:\n",
        "      self.W = {}\n",
        "      self.B = {}\n",
        "\n",
        "      for i in range(self.nh +1):\n",
        "        self.W[i+1] = np.random.randn(self.neurons[i+1],self.neurons[i])\n",
        "        self.B[i+1] = np.zeros([self.neurons[i+1],1])\n",
        "\n",
        "    for i in tqdm_notebook(range(epochs)):\n",
        "      #print(i)\n",
        "      dW={}\n",
        "      dB={}\n",
        "      for i in range(self.nh+1):\n",
        "        dW[i+1] = np.zeros([self.neurons[i+1],self.neurons[i]])\n",
        "        dB[i+1] = np.zeros([self.neurons[i+1],1])\n",
        "      for x,y in zip(X,Y):\n",
        "        self.grad(x,y)\n",
        "        for i in range(self.nh+1):\n",
        "          dW[i+1] += self.dW[i+1]\n",
        "          dB[i+1] += self.dB[i+1]\n",
        "      \n",
        "      m = X.shape[1]\n",
        "      for i in range(self.nh+1):\n",
        "        self.W[i+1] -= lr * dW[i+1] /m\n",
        "        self.B[i+1] -= lr * dB[i+1] /m\n",
        "      \n",
        "      Y_pred = self.predict(X)\n",
        "      loss.append(self.cross_entropy(Y,Y_pred))\n",
        "\n",
        "    if show_loss ==1:\n",
        "      plt.plot(loss)\n",
        "      plt.xlabel('Epochs')\n",
        "      plt.ylabel('Cross Entropy Loss')\n",
        "      plt.title('Loss During Training')\n",
        "      plt.show()\n",
        "\n",
        "      \n",
        "\n",
        "\n",
        "  \n",
        "# The weights are dealt using vectors and gradients are also calculated faster"
      ],
      "execution_count": null,
      "outputs": []
    },
    {
      "cell_type": "code",
      "metadata": {
        "colab": {
          "base_uri": "https://localhost:8080/",
          "height": 383,
          "referenced_widgets": [
            "f11574e36ca948c0b4dcdc7f591a654d",
            "f382fb1a3a0047a5a4d2da928c90c6f6",
            "bb8d013522ed44f09a7a9214331b5c27",
            "40ccdcdb51e94ea5a4f49430e68040cf",
            "643ba0e345384fbb9dda61605628355c",
            "a040c5095acf4bb580d77a1fdf4da831",
            "81fcd4585e3047a7a7a885caf72bcd64",
            "18e75c5dcc514a59a4f4f75ccb0d445c"
          ]
        },
        "id": "Bkd_sOgRrrJ_",
        "outputId": "03239039-247e-4ef6-e70a-1cf1e4dd9256"
      },
      "source": [
        "f2 = FFNetwork_BP2(2,2,[4,3])\n",
        "f2.train(X_train,Y_train2,epochs=1000,lr=0.005,initialise=1,show_loss=1)\n",
        "## Training speed: 11.71iterations/second"
      ],
      "execution_count": null,
      "outputs": [
        {
          "output_type": "stream",
          "text": [
            "/usr/local/lib/python3.7/dist-packages/ipykernel_launcher.py:93: TqdmDeprecationWarning: This function will be removed in tqdm==5.0.0\n",
            "Please use `tqdm.notebook.tqdm` instead of `tqdm.tqdm_notebook`\n"
          ],
          "name": "stderr"
        },
        {
          "output_type": "display_data",
          "data": {
            "application/vnd.jupyter.widget-view+json": {
              "model_id": "f11574e36ca948c0b4dcdc7f591a654d",
              "version_minor": 0,
              "version_major": 2
            },
            "text/plain": [
              "HBox(children=(FloatProgress(value=0.0, max=1000.0), HTML(value='')))"
            ]
          },
          "metadata": {
            "tags": []
          }
        },
        {
          "output_type": "stream",
          "text": [
            "\n"
          ],
          "name": "stdout"
        },
        {
          "output_type": "display_data",
          "data": {
            "image/png": "[encoded data removed]",
            "text/plain": [
              "<Figure size 432x288 with 1 Axes>"
            ]
          },
          "metadata": {
            "tags": []
          }
        }
      ]
    },
    {
      "cell_type": "code",
      "metadata": {
        "colab": {
          "base_uri": "https://localhost:8080/"
        },
        "id": "1isXvhR7rzmj",
        "outputId": "ad7baf81-a4a6-4edc-fe0a-f57460bdfeda"
      },
      "source": [
        "Y_pred_train1 = f2.predict(X_train)\n",
        "Y_pred_test1 = f2.predict(X_test)\n",
        "\n",
        "Y_pred_train = np.argmax(Y_pred_train1,axis=1)\n",
        "Y_pred_test = np.argmax(Y_pred_test1,axis=1)\n",
        "\n",
        "accuracy_train = accuracy_score(Y_pred_train,Y_train)\n",
        "accuracy_test = accuracy_score(Y_pred_test,Y_test)\n",
        "print(accuracy_train,accuracy_test)"
      ],
      "execution_count": null,
      "outputs": [
        {
          "output_type": "stream",
          "text": [
            "0.9773333333333334 0.94\n"
          ],
          "name": "stdout"
        }
      ]
    },
    {
      "cell_type": "code",
      "metadata": {
        "id": "Igw_XmY4tbXP"
      },
      "source": [
        "class FFNetwork_BP3:\n",
        "\n",
        "  def __init__(self,n_inputs,n_outputs,n_hlayers=[2]):\n",
        "    \n",
        "    self.input = n_inputs\n",
        "    self.output = n_outputs\n",
        "    self.nh = len(n_hlayers)\n",
        "    self.neurons = [n_inputs] + n_hlayers + [n_outputs]\n",
        "    self.W = {}\n",
        "    self.B = {}\n",
        "\n",
        "    for i in range(self.nh +1):\n",
        "      self.W[i+1] = np.random.randn(self.neurons[i+1],self.neurons[i])\n",
        "      self.B[i+1] = np.zeros([self.neurons[i+1],1])\n",
        "  \n",
        "  def sigmoid(self,X):\n",
        "    return 1.0/(1.0 + np.exp(-X))\n",
        "  \n",
        "  \n",
        "  def forward_pass(self,X):\n",
        "    self.A = {}\n",
        "    self.H = {}\n",
        "    self.H[0] = np.transpose(X) #Final is a 2XN matrix N is 750\n",
        "\n",
        "    for i in range(self.nh):\n",
        "      self.A[i+1] = np.matmul(self.W[i+1],self.H[i]) + self.B[i+1] # (2X2) * (2XN) ---> (2XN)\n",
        "      self.H[i+1] = self.sigmoid(self.A[i+1]) #(2XN)\n",
        "    \n",
        "    self.A[self.nh+1] = np.matmul(self.W[self.nh+1],self.H[self.nh]) + self.B[self.nh+1] #(2XN)\n",
        "    sum = np.sum(np.exp(self.A[self.nh+1]),axis=0)\n",
        "    self.H[self.nh+1] = np.exp(self.A[self.nh+1])/sum \n",
        "    return self.H[self.nh+1] #(2XN)\n",
        "  \n",
        "  def grad_sigmoid(self,X):\n",
        "    return X*(1-X)\n",
        "  \n",
        "  def cross_entropy(self,Y,Y_pred):\n",
        "    y_temp = np.multiply(np.transpose(Y),Y_pred)\n",
        "    y_temp = y_temp[y_temp != 0]\n",
        "    y_temp1 = -np.log(y_temp)\n",
        "    return np.mean(y_temp1)\n",
        "\n",
        "  \n",
        "  def predict(self,X):\n",
        "    Y_pred = self.forward_pass(X)\n",
        "    return Y_pred.squeeze()\n",
        "\n",
        "  def grad(self,X,Y):\n",
        "    self.forward_pass(X)\n",
        "    self.dA = {}\n",
        "    self.dH = {}\n",
        "    self.dW = {}\n",
        "    self.dB = {}\n",
        "    L = self.nh+1\n",
        "    self.dA[L] = (self.H[L]-np.transpose(Y))\n",
        "    for i in range(L,0,-1):\n",
        "      self.dW[i] = np.matmul(self.dA[i],np.transpose(self.H[i-1]))\n",
        "      self.dB[i] = np.sum(self.dA[i],axis=1).reshape(-1,1)\n",
        "      if i>1:\n",
        "        self.dH[i-1] = np.matmul(np.transpose(self.W[i]),self.dA[i])\n",
        "        self.dA[i-1] = np.multiply(self.dH[i-1],self.grad_sigmoid(self.H[i-1]))\n",
        "\n",
        "\n",
        "\n",
        "  def train(self,X,Y,epochs=1,lr=1,initialise=1,show_loss=0):\n",
        "    loss = []\n",
        "    if initialise==1:\n",
        "      self.W = {}\n",
        "      self.B = {}\n",
        "\n",
        "      for i in range(self.nh +1):\n",
        "        self.W[i+1] = np.random.randn(self.neurons[i+1],self.neurons[i])\n",
        "        self.B[i+1] = np.zeros([self.neurons[i+1],1])\n",
        "\n",
        "    for i in tqdm_notebook(range(epochs)):\n",
        "      self.grad(X,Y)\n",
        "\n",
        "      m = X.shape[1]\n",
        "      for i in range(self.nh+1):\n",
        "        self.W[i+1] -= lr * self.dW[i+1] /m\n",
        "        self.B[i+1] -= lr * self.dB[i+1] /m\n",
        "      \n",
        "      Y_pred = self.predict(X)\n",
        "      loss.append(self.cross_entropy(Y,Y_pred))\n",
        "\n",
        "    if show_loss ==1:\n",
        "      plt.plot(loss)\n",
        "      plt.xlabel('Epochs')\n",
        "      plt.ylabel('Cross Entropy Loss')\n",
        "      plt.title('Loss During Training')\n",
        "      plt.show()\n",
        "\n",
        "      \n",
        "\n",
        "\n",
        "  \n",
        "#Same as above, inputs are sent in large batches and matrix multiplication is used to speed up the process"
      ],
      "execution_count": null,
      "outputs": []
    },
    {
      "cell_type": "code",
      "metadata": {
        "colab": {
          "base_uri": "https://localhost:8080/",
          "height": 383,
          "referenced_widgets": [
            "d513ada3299b4dc59fc7b38de54215a5",
            "c307113f568c4b439ea49c779c0f38b6",
            "3dceaa3daa3649b18b76cc62c1038720",
            "5fa57823e6934c9286a47b2a5dd84aa6",
            "8fcc66af7d3649a68ca8fcc8e63158e0",
            "9c7523b75f234391b5f99a26f8470711",
            "ec877244b2a442c596ba498771eef2d4",
            "5deac19e0c81422ca1e2330b7fcf0afd"
          ]
        },
        "id": "bWl4Uqgvgj8o",
        "outputId": "11269575-d2c4-4dc1-ec13-a6f2dd9ccd13"
      },
      "source": [
        "f4 = FFNetwork_BP3(2,2,[4,3])\n",
        "f4.train(X_train,Y_train2,epochs=2000,lr=0.005,initialise=0,show_loss=1)\n",
        "## Training speed: 1275 iterations/second"
      ],
      "execution_count": null,
      "outputs": [
        {
          "output_type": "stream",
          "text": [
            "/usr/local/lib/python3.7/dist-packages/ipykernel_launcher.py:75: TqdmDeprecationWarning: This function will be removed in tqdm==5.0.0\n",
            "Please use `tqdm.notebook.tqdm` instead of `tqdm.tqdm_notebook`\n"
          ],
          "name": "stderr"
        },
        {
          "output_type": "display_data",
          "data": {
            "application/vnd.jupyter.widget-view+json": {
              "model_id": "d513ada3299b4dc59fc7b38de54215a5",
              "version_minor": 0,
              "version_major": 2
            },
            "text/plain": [
              "HBox(children=(FloatProgress(value=0.0, max=2000.0), HTML(value='')))"
            ]
          },
          "metadata": {
            "tags": []
          }
        },
        {
          "output_type": "stream",
          "text": [
            "\n"
          ],
          "name": "stdout"
        },
        {
          "output_type": "display_data",
          "data": {
            "image/png": "[encoded data removed]",
            "text/plain": [
              "<Figure size 432x288 with 1 Axes>"
            ]
          },
          "metadata": {
            "tags": []
          }
        }
      ]
    }
  ]
}